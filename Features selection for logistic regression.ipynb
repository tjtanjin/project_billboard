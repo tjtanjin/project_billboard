{
 "cells": [
  {
   "cell_type": "code",
   "execution_count": 1,
   "metadata": {},
   "outputs": [],
   "source": [
    "%matplotlib inline\n",
    "import pandas as pd\n",
    "import numpy as np\n",
    "import matplotlib.pyplot as plt\n",
    "import time\n",
    "from sklearn.linear_model import LogisticRegression\n",
    "from sklearn.model_selection import train_test_split\n",
    "from sklearn.neighbors import KNeighborsClassifier\n",
    "from sklearn.model_selection import cross_val_score\n",
    "import xgboost as xgb\n",
    "from xgboost.sklearn import XGBRegressor\n",
    "from xgboost.sklearn import XGBClassifier\n",
    "\n"
   ]
  },
  {
   "cell_type": "code",
   "execution_count": null,
   "metadata": {
    "scrolled": true
   },
   "outputs": [],
   "source": [
    "songs_combine = pd.read_csv(\"song_features/spotifybillboard_hitmiss_2014to18.csv\")\n",
    "songs_combine.head()"
   ]
  },
  {
   "cell_type": "code",
   "execution_count": 3,
   "metadata": {},
   "outputs": [],
   "source": [
    "# define x = song features\n",
    "features_all=['duration','loudness', 'tempo','tempo_confidence','time_signature_confidence',\n",
    "                   'time_signature','key_confidence','mode_confidence',\n",
    "                   'key', 'mode', 'acousticness', 'danceability', 'energy',\n",
    "                   'instrumentalness', 'liveness', 'speechiness', 'valence']\n",
    "x=songs_combine[features_all]\n",
    "# define y = popularity\n",
    "y = songs_combine[['hitmiss_billboard']]"
   ]
  },
  {
   "cell_type": "code",
   "execution_count": 4,
   "metadata": {},
   "outputs": [],
   "source": [
    "def model_score(x):\n",
    "    # split dataset into 80% for training, 20% for testing\n",
    "    x_train, x_test, y_train, y_test = train_test_split(x, y, train_size = 0.8, test_size = 0.2, random_state = 1)\n",
    "    # create Multiple Logistic Regression model and train it using .fit()\n",
    "    predictor = LogisticRegression(solver='lbfgs',max_iter=10000)\n",
    "    predictor.fit(x_train.values, y_train.values.ravel())\n",
    "    #return score\n",
    "    return predictor.score(x_test, y_test)"
   ]
  },
  {
   "cell_type": "code",
   "execution_count": 5,
   "metadata": {},
   "outputs": [
    {
     "name": "stdout",
     "output_type": "stream",
     "text": [
      "0.5346579551696777\n"
     ]
    }
   ],
   "source": [
    "start = time. time()\n",
    "model_score(songs_combine[features_all])\n",
    "end = time. time()\n",
    "print(end - start)"
   ]
  },
  {
   "cell_type": "code",
   "execution_count": 5,
   "metadata": {
    "scrolled": true
   },
   "outputs": [],
   "source": [
    "features_combination=[]\n",
    "models_score_combination=[]\n",
    "from itertools import combinations\n",
    "for i in range(14,18):\n",
    "    comb = combinations(features_all,i)\n",
    "    for i in list(comb):\n",
    "        features_combination.append(i)\n",
    "        list_i=list(i)    \n",
    "        models_score_combination.append(model_score(songs_combine[list_i]))"
   ]
  },
  {
   "cell_type": "code",
   "execution_count": 6,
   "metadata": {},
   "outputs": [
    {
     "name": "stdout",
     "output_type": "stream",
     "text": [
      "834\n",
      "834\n"
     ]
    }
   ],
   "source": [
    "print(len(features_combination))\n",
    "print(len(models_score_combination))"
   ]
  },
  {
   "cell_type": "code",
   "execution_count": 7,
   "metadata": {},
   "outputs": [
    {
     "data": {
      "text/plain": [
       "0.7406367041198502"
      ]
     },
     "execution_count": 7,
     "metadata": {},
     "output_type": "execute_result"
    }
   ],
   "source": [
    "max(models_score_combination)"
   ]
  },
  {
   "cell_type": "code",
   "execution_count": 8,
   "metadata": {
    "scrolled": false
   },
   "outputs": [
    {
     "data": {
      "text/plain": [
       "['duration',\n",
       " 'loudness',\n",
       " 'tempo',\n",
       " 'tempo_confidence',\n",
       " 'time_signature_confidence',\n",
       " 'key_confidence',\n",
       " 'mode_confidence',\n",
       " 'key',\n",
       " 'mode',\n",
       " 'acousticness',\n",
       " 'energy',\n",
       " 'liveness',\n",
       " 'speechiness',\n",
       " 'valence']"
      ]
     },
     "execution_count": 8,
     "metadata": {},
     "output_type": "execute_result"
    }
   ],
   "source": [
    "selected_features=list(features_combination[models_score_combination.index(max(models_score_combination))])\n",
    "selected_features"
   ]
  },
  {
   "cell_type": "code",
   "execution_count": 9,
   "metadata": {},
   "outputs": [],
   "source": [
    "X=songs_combine[selected_features]"
   ]
  },
  {
   "cell_type": "code",
   "execution_count": 11,
   "metadata": {},
   "outputs": [
    {
     "data": {
      "text/plain": [
       "0.7406367041198502"
      ]
     },
     "execution_count": 11,
     "metadata": {},
     "output_type": "execute_result"
    }
   ],
   "source": [
    "x_train, x_test, y_train, y_test = train_test_split(X, y, train_size = 0.8, test_size = 0.2, random_state = 1)\n",
    "# create Multiple Logistic Regression model and train it using .fit()\n",
    "predictor = LogisticRegression(solver='lbfgs',max_iter=10000)\n",
    "predictor.fit(x_train.values, y_train.values.ravel())\n",
    "#return score\n",
    "return predictor.score(x_test, y_test)"
   ]
  }
 ],
 "metadata": {
  "kernelspec": {
   "display_name": "Python 3",
   "language": "python",
   "name": "python3"
  },
  "language_info": {
   "codemirror_mode": {
    "name": "ipython",
    "version": 3
   },
   "file_extension": ".py",
   "mimetype": "text/x-python",
   "name": "python",
   "nbconvert_exporter": "python",
   "pygments_lexer": "ipython3",
   "version": "3.7.1"
  }
 },
 "nbformat": 4,
 "nbformat_minor": 2
}
