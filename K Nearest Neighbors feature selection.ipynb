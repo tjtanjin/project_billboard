{
 "cells": [
  {
   "cell_type": "markdown",
   "metadata": {},
   "source": [
    "# Prep Work incl. importing libraries, combining datasets\n",
    "\n",
    "Datasets (no. of songs): <br>\n",
    "2014 = 232 <br>\n",
    "2015 = 370 <br>\n",
    "2016 = 582 <br>\n",
    "2017 = 1294 <br>\n",
    "2018 = 2516 <br>\n",
    "TOTAL = 4994"
   ]
  },
  {
   "cell_type": "code",
   "execution_count": 3,
   "metadata": {},
   "outputs": [],
   "source": [
    "# mass imports\n",
    "%matplotlib inline\n",
    "import pandas as pd\n",
    "import numpy as np\n",
    "import pickle\n",
    "import matplotlib.pyplot as plt\n",
    "\n",
    "from sklearn.linear_model import LinearRegression\n",
    "from sklearn.model_selection import train_test_split\n",
    "from sklearn.neighbors import KNeighborsClassifier\n",
    "import time\n",
    "songs_combine = pd.read_csv(\"song_features/spotifybillboard_hitmiss_2014to18.csv\")"
   ]
  },
  {
   "cell_type": "markdown",
   "metadata": {},
   "source": [
    "# #2 K Nearest Neighbors\n",
    "Some potential: Model with optimal k has accuracy of around 61.7%...slightly better than flipping a coin?"
   ]
  },
  {
   "cell_type": "code",
   "execution_count": 4,
   "metadata": {},
   "outputs": [
    {
     "name": "stdout",
     "output_type": "stream",
     "text": [
      "17\n"
     ]
    },
    {
     "data": {
      "text/plain": [
       "['acousticness',\n",
       " 'danceability',\n",
       " 'duration',\n",
       " 'energy',\n",
       " 'instrumentalness',\n",
       " 'key',\n",
       " 'key_confidence',\n",
       " 'liveness',\n",
       " 'loudness',\n",
       " 'mode',\n",
       " 'mode_confidence',\n",
       " 'speechiness',\n",
       " 'tempo',\n",
       " 'tempo_confidence',\n",
       " 'time_signature',\n",
       " 'time_signature_confidence',\n",
       " 'valence']"
      ]
     },
     "execution_count": 4,
     "metadata": {},
     "output_type": "execute_result"
    }
   ],
   "source": [
    "features_all=['duration','loudness', 'tempo','tempo_confidence','time_signature_confidence',\n",
    "                   'time_signature','key_confidence','mode_confidence',\n",
    "                   'key', 'mode', 'acousticness', 'danceability', 'energy',\n",
    "                   'instrumentalness', 'liveness', 'speechiness', 'valence']\n",
    "features_all.sort()\n",
    "print(len(features_all))\n",
    "features_all"
   ]
  },
  {
   "cell_type": "code",
   "execution_count": 5,
   "metadata": {},
   "outputs": [],
   "source": [
    "y = songs_combine[['hitmiss_billboard']]"
   ]
  },
  {
   "cell_type": "code",
   "execution_count": 6,
   "metadata": {},
   "outputs": [],
   "source": [
    "def model_score(x):\n",
    "    x_train, x_test, y_train, y_test = train_test_split(x, y, train_size = 0.8, test_size = 0.2, random_state = 1)\n",
    "    # for KNeighborsClassifier, need to identify best k neighbors model by checking which k gives the highest validation accuracy a.k.a. score\n",
    "\n",
    "    # create empty list to store scores for each k\n",
    "    scores = []\n",
    "\n",
    "    # for each k from 1 to 300, create a model and add its score to the \"scores\" list\n",
    "    for i in range(1,301):\n",
    "        classifier = KNeighborsClassifier(n_neighbors = i)\n",
    "        classifier.fit(x_train,y_train.values.ravel())\n",
    "        score = classifier.score(x_test,y_test)\n",
    "        scores.append(score)\n",
    "    \n",
    "    # create a list of k from 1 to 300\n",
    "    k_lib = range(1,301)\n",
    "\n",
    "    # combine lists of k and scores into dataframe \"k_scores\"\n",
    "    k_scores = pd.DataFrame({\"k\":k_lib, \"Scores\":scores})\n",
    "\n",
    "    # in \"k_scores\", find index with maximum score, then find corresponding k (in this case 61)\n",
    "    max_score_index = k_scores[\"Scores\"].idxmax(axis = 0)\n",
    "    max_score_k = k_scores[\"k\"][max_score_index]\n",
    "\n",
    "    # create a model using best k (in this case 107)\n",
    "    classifier = KNeighborsClassifier(n_neighbors = 61)\n",
    "    classifier.fit(x_train,y_train.values.ravel())\n",
    "    return (classifier.score(x_test,y_test))"
   ]
  },
  {
   "cell_type": "code",
   "execution_count": 11,
   "metadata": {},
   "outputs": [],
   "source": [
    "features_combination=[]\n",
    "models_score_combination=[]\n",
    "from itertools import combinations\n",
    "for i in range(16,18):\n",
    "    comb = combinations(features_all,i)\n",
    "    for i in list(comb):\n",
    "        features_combination.append(i)\n",
    "        list_i=list(i)    \n",
    "        models_score_combination.append(model_score(songs_combine[list_i]))"
   ]
  },
  {
   "cell_type": "code",
   "execution_count": 12,
   "metadata": {},
   "outputs": [
    {
     "name": "stdout",
     "output_type": "stream",
     "text": [
      "18\n",
      "18\n"
     ]
    }
   ],
   "source": [
    "print(len(features_combination))\n",
    "print(len(models_score_combination))"
   ]
  },
  {
   "cell_type": "code",
   "execution_count": 13,
   "metadata": {},
   "outputs": [
    {
     "data": {
      "text/plain": [
       "0.7378277153558053"
      ]
     },
     "execution_count": 13,
     "metadata": {},
     "output_type": "execute_result"
    }
   ],
   "source": [
    "max(models_score_combination)"
   ]
  },
  {
   "cell_type": "code",
   "execution_count": 14,
   "metadata": {},
   "outputs": [
    {
     "data": {
      "text/plain": [
       "['acousticness',\n",
       " 'danceability',\n",
       " 'duration',\n",
       " 'energy',\n",
       " 'instrumentalness',\n",
       " 'key',\n",
       " 'key_confidence',\n",
       " 'liveness',\n",
       " 'loudness',\n",
       " 'mode',\n",
       " 'mode_confidence',\n",
       " 'speechiness',\n",
       " 'tempo',\n",
       " 'tempo_confidence',\n",
       " 'time_signature',\n",
       " 'time_signature_confidence']"
      ]
     },
     "execution_count": 14,
     "metadata": {},
     "output_type": "execute_result"
    }
   ],
   "source": [
    "selected_features=list(features_combination[models_score_combination.index(max(models_score_combination))])\n",
    "selected_features"
   ]
  },
  {
   "cell_type": "code",
   "execution_count": 15,
   "metadata": {},
   "outputs": [],
   "source": [
    "X=songs_combine[selected_features]"
   ]
  }
 ],
 "metadata": {
  "kernelspec": {
   "display_name": "Python 3",
   "language": "python",
   "name": "python3"
  },
  "language_info": {
   "codemirror_mode": {
    "name": "ipython",
    "version": 3
   },
   "file_extension": ".py",
   "mimetype": "text/x-python",
   "name": "python",
   "nbconvert_exporter": "python",
   "pygments_lexer": "ipython3",
   "version": "3.7.1"
  }
 },
 "nbformat": 4,
 "nbformat_minor": 2
}
