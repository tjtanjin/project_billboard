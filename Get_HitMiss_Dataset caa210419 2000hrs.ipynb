{
 "cells": [
  {
   "cell_type": "markdown",
   "metadata": {},
   "source": [
    "## Import libraries"
   ]
  },
  {
   "cell_type": "code",
   "execution_count": 1,
   "metadata": {},
   "outputs": [],
   "source": [
    "import pandas as pd\n",
    "import numpy as np\n",
    "import json\n",
    "from requests import get, post\n",
    "from time import time, sleep\n",
    "from random import randint\n",
    "from bs4 import BeautifulSoup"
   ]
  },
  {
   "cell_type": "markdown",
   "metadata": {},
   "source": [
    "## Obtain token and prepare headers to access Spotify's APIs."
   ]
  },
  {
   "cell_type": "code",
   "execution_count": 2,
   "metadata": {},
   "outputs": [],
   "source": [
    "# post Client Credentials to Spotify's Token API to obtain Token\n",
    "with open(\"./token/token.json\", \"r\") as token_file:\n",
    "    token_file = json.load(token_file)\n",
    "res = post('https://accounts.spotify.com/api/token', headers = {'Authorization': '{}'.format(token_file[\"token\"])}, data= {'grant_type': 'client_credentials'})\n",
    "token = 'Bearer {}'.format(res.json()['access_token'])\n",
    "\n",
    "# define headers to include Token\n",
    "headers = {'Authorization': token, \"Accept\": 'application/json', 'Content-Type': \"application/json\"}"
   ]
  },
  {
   "cell_type": "markdown",
   "metadata": {},
   "source": [
    "## Function that extracts basic info of songs from specified year (name, id, popularity, release date) and stores them in dataframe songs_info.\n",
    "\n",
    "approx. 5secs per 50 songs"
   ]
  },
  {
   "cell_type": "code",
   "execution_count": 3,
   "metadata": {},
   "outputs": [],
   "source": [
    "def extract_songs(year, num):\n",
    "    \"\"\"\n",
    "    Function to extract specified number of songs from a specified year.\n",
    "    Args:\n",
    "        year: year to extract songs from\n",
    "        num: number of songs to extract\n",
    "    \"\"\"\n",
    "    # for songs released in specified year, create data frame for songs' basic info\n",
    "    songs_info = pd.DataFrame(columns=[\"name\", \"id\", \"popularity\", \"release_date\"])\n",
    "\n",
    "    # set start_time and songs_extracted to track progress\n",
    "    start_time = time()\n",
    "    songs_extracted = 0\n",
    "\n",
    "    # from Spotify API, get songs and basic info released in specified year, in batches of 50, with rate limit of 1-3 secs between batches\n",
    "    # maximum songs per year is 10k\n",
    "    for i in range(0, num, 50):\n",
    "        url=\"https://api.spotify.com/v1/search?q=%20year:{}&limit=50&offset={}&type=track\".format(year, i)\n",
    "        r=get(url, headers=headers)\n",
    "\n",
    "        for item in r.json()[\"tracks\"][\"items\"]:\n",
    "            songs_info = songs_info.append({\"name\": item[\"name\"], \"id\": item[\"id\"], \"popularity\": item[\"popularity\"],\n",
    "                                           \"release_date\": item[\"album\"][\"release_date\"]}, ignore_index = True)\n",
    "            \n",
    "        # track progress\n",
    "        try:\n",
    "            print(\"Extracting songs: [{}{}] {}/{} songs completed. Approx time left: {} minutes.\".format(\"#\"*round(((i+50)/(num/20))), \"-\"*round((num/(num/20)-((i+50)/(num/20)))), i+50, num, round(((time()-start_time)/i)*(num-i)/60, 2)), end=\"\\r\", flush=True)\n",
    "        except:\n",
    "            print(\"Extracting songs: [{}{}] {}/{} songs completed. Approx time left: {}\".format(\"#\"*round(((i+50)/(num/20))), \"-\"*round((num/(num/20)-((i+50)/(num/20)))), i+50, num, \"-\"), end=\"\\r\", flush=True)\n",
    "                \n",
    "        sleep(randint(1,3))\n",
    "        songs_extracted = i + 50\n",
    "\n",
    "    print(\"\")\n",
    "    print(\"EXTRACTION COMPLETE. Songs extracted: {}; Elapsed Time: {} minutes.\".format(songs_extracted, round((time()-start_time)/60, 2)))\n",
    "    return songs_info\n",
    "    "
   ]
  },
  {
   "cell_type": "markdown",
   "metadata": {},
   "source": [
    "## On songs extracted, conduct audio analysis (e.g. duration, loudness, tempo etc.), stored in dataframe songs_analysis.\n",
    "\n",
    "approx. 3mins per 10 songs"
   ]
  },
  {
   "cell_type": "code",
   "execution_count": 4,
   "metadata": {},
   "outputs": [],
   "source": [
    "def audio_analysis(songs_info, num):\n",
    "    \"\"\"\n",
    "    Function to conduct audio analysis on extracted songs.\n",
    "    Args:\n",
    "        songs_info: dataframe containing songs' basic info\n",
    "        num: number of songs\n",
    "    \"\"\"\n",
    "    #create data frame for songs' audio analysis\n",
    "    songs_analysis = pd.DataFrame(columns=[\"duration\", \"loudness\", \"tempo\", \"tempo_confidence\", \"time_signature\", \n",
    "                                                \"time_signature_confidence\", \"key\", \"key_confidence\", \"mode\", \"mode_confidence\"])\n",
    "\n",
    "    # set start_time and songs_analyzed to track progress\n",
    "    start_time = time()\n",
    "    songs_analyzed = 0\n",
    "\n",
    "    # from Spotify API, get songs' audio analysis with rate limit of 1-2 secs between songs\n",
    "    # maximum songs per year is 10k\n",
    "    for i in range(num):\n",
    "        url=\"https://api.spotify.com/v1/audio-analysis/{}\".format(songs_info[\"id\"][i])\n",
    "        r=get(url, headers=headers)\n",
    "\n",
    "        # to ensure response contains track details, which is not the case sometimes\n",
    "        while \"track\" not in r.json():\n",
    "            r=get(url, headers=headers)\n",
    "\n",
    "        r=r.json()[\"track\"]\n",
    "        songs_analysis = songs_analysis.append({\"duration\": r[\"duration\"], \"loudness\": r[\"loudness\"], \"tempo\": r[\"tempo\"],\n",
    "                                                     \"tempo_confidence\": r[\"tempo_confidence\"], \"time_signature\": r[\"time_signature\"],\n",
    "                                                     \"time_signature_confidence\": r[\"time_signature_confidence\"], \n",
    "                                                     \"key\": r[\"key\"], \"key_confidence\": r[\"key_confidence\"], \"mode\": r[\"mode\"],\n",
    "                                                     \"mode_confidence\": r[\"mode_confidence\"]}, ignore_index = True)\n",
    "        \n",
    "        # track progress\n",
    "        try:\n",
    "            print(\"Conducting audio analysis: [{}{}] {}/{} songs completed. Approx time left: {} minutes.\".format(\"#\"*round(((i+1)/(num/20))), \"-\"*round((num/(num/20)-((i+1)/(num/20)))), i+1, num, round(((time()-start_time)/i)*(num-i)/60, 2)), end=\"\\r\", flush=True)\n",
    "        except:\n",
    "            print(\"Conducting audio analysis: [{}{}] {}/{} songs completed. Approx time left: {}\".format(\"#\"*round(((i+1)/(num/20))), \"-\"*round((num/(num/20)-((i+1)/(num/20)))), i+1, num, \"-\"), end=\"\\r\", flush=True)\n",
    "        \n",
    "        sleep(randint(1,2))\n",
    "        songs_analyzed = i + 1\n",
    "\n",
    "    print(\"\")\n",
    "    print(\"AUDIO ANALYSIS COMPLETE. Songs analyzed: {}; Elapsed Time: {} minutes.\".format(songs_analyzed, round((time()-start_time)/60, 2)))\n",
    "    return songs_analysis"
   ]
  },
  {
   "cell_type": "markdown",
   "metadata": {},
   "source": [
    "## On songs extracted, conduct audio feature analysis (e.g. acousticness, danceability, energy etc.), stored in dataframe songs_features.\n",
    "\n",
    "approx. 15secs per 10 songs"
   ]
  },
  {
   "cell_type": "code",
   "execution_count": 5,
   "metadata": {},
   "outputs": [],
   "source": [
    "def features_analysis(songs_info, num):\n",
    "    \"\"\"\n",
    "    Function to conduct features analysis on extracted songs.\n",
    "    Args:\n",
    "        songs_info: dataframe containing songs' basic info\n",
    "        num: number of songs\n",
    "    \"\"\"\n",
    "    #create data frame for songs' audio analysis\n",
    "    songs_features = pd.DataFrame(columns=[\"acousticness\", \"danceability\", \"energy\", \"instrumentalness\", \"liveness\", \n",
    "                                                \"speechiness\", \"valence\"])\n",
    "\n",
    "    # set start_time and songs_analyzed to track progress\n",
    "    start_time = time()\n",
    "    songs_analyzed = 0\n",
    "\n",
    "    # get songs' audio features with rate limit of 1-2 secs between songs\n",
    "    # maximum songs per year is 10k\n",
    "    for i in range(num):\n",
    "        url=\"https://api.spotify.com/v1/audio-features/{}\".format(songs_info[\"id\"][i])\n",
    "        r=get(url, headers=headers)\n",
    "\n",
    "        r=r.json()\n",
    "        songs_features = songs_features.append({\"acousticness\": r[\"acousticness\"], \"danceability\": r[\"danceability\"], \n",
    "                                                          \"energy\": r[\"energy\"], \"instrumentalness\": r[\"instrumentalness\"], \n",
    "                                                          \"liveness\": r[\"liveness\"], \"speechiness\": r[\"speechiness\"], \n",
    "                                                          \"valence\": r[\"valence\"]}, ignore_index = True)\n",
    "\n",
    "        #track progress\n",
    "        try:\n",
    "            print(\"Conducting features analysis: [{}{}] {}/{} songs completed. Approx time left: {} minutes.\".format(\"#\"*round(((i+1)/(num/20))), \"-\"*round((num/(num/20)-((i+1)/(num/20)))), i+1, num, round(((time()-start_time)/i)*(num-i)/60, 2)), end=\"\\r\", flush=True)\n",
    "        except:\n",
    "            print(\"Conducting features analysis: [{}{}] {}/{} songs completed. Approx time left: {}\".format(\"#\"*round(((i+1)/(num/20))), \"-\"*round((num/(num/20)-((i+1)/(num/20)))), i+1, num, \"-\"), end=\"\\r\", flush=True)\n",
    "        \n",
    "        sleep(randint(1,2))\n",
    "        songs_analyzed = i + 1\n",
    "\n",
    "    print(\"\")\n",
    "    print(\"FEATURES ANALYSIS COMPLETE. Songs analyzed: {}; Elapsed Time: {} minutes.\".format(songs_analyzed, round((time()-start_time)/60, 2)))\n",
    "    return songs_features"
   ]
  },
  {
   "cell_type": "markdown",
   "metadata": {},
   "source": [
    "## Identify cutoff popularity such that proportions of hit and miss are approx. 50/50, then label each song as either a hit or miss in dataframe songs."
   ]
  },
  {
   "cell_type": "code",
   "execution_count": 6,
   "metadata": {},
   "outputs": [],
   "source": [
    "def label_songs(songs):\n",
    "    \"\"\"\n",
    "    Function to label songs with hit/miss.\n",
    "    Args:\n",
    "        songs: dataframe containing all songs' info\n",
    "    \"\"\"\n",
    "    # using cutoff_popularity, classify songs as hit or miss using hit_miss list, then add hit_miss list to DataFrame\n",
    "    hit_miss = []\n",
    "    hit_count = 0\n",
    "\n",
    "    for i in range(len(songs[\"popularity\"])):\n",
    "\n",
    "        if songs[\"popularity\"][i] >= 70:\n",
    "            hit_count += 1\n",
    "            hit_miss.append(\"hit\")\n",
    "\n",
    "        else:\n",
    "            hit_miss.append(\"miss\")\n",
    "            \n",
    "    songs[\"hit_miss\"] = hit_miss\n",
    "            \n",
    "    if hit_count < len(songs[\"popularity\"])/2:\n",
    "        drop_count = len(songs[\"popularity\"]) - 2*hit_count\n",
    "        songs = songs.drop(songs[songs[\"hit_miss\"]==\"miss\"].sample(n=drop_count).index)\n",
    "\n",
    "    return songs"
   ]
  },
  {
   "cell_type": "markdown",
   "metadata": {},
   "source": [
    "## Link up above processes through a single function for easier management."
   ]
  },
  {
   "cell_type": "code",
   "execution_count": 7,
   "metadata": {},
   "outputs": [],
   "source": [
    "def get_data(year, num):\n",
    "    \"\"\"\n",
    "    Function that initiates entire process of extracting specified number of song data from specified year.\n",
    "    Args:\n",
    "        year: year to extract songs from\n",
    "        num: number of songs to extract\n",
    "    \"\"\"\n",
    "    try:\n",
    "        # obtain data\n",
    "        songs_info = extract_songs(year, num)\n",
    "        songs_analysis = audio_analysis(songs_info, num)\n",
    "        songs_features = features_analysis(songs_info, num)\n",
    "        # combine all 3 data frames to obtain songs, a dataframe which contains metadata for songs released in specified year.\n",
    "        songs = pd.concat([songs_info, songs_analysis, songs_features], axis = 1)\n",
    "        # label songs\n",
    "        songs = label_songs(songs)\n",
    "        # save results to csv file\n",
    "        songs.to_csv(\"./song_features/{}_{}_song_features.csv\".format(year, num), index=False)\n",
    "    except Exception as ex:\n",
    "        print(\"Error for scraping from year {} with num {} and exception: {}\".format(year, num, ex))"
   ]
  },
  {
   "cell_type": "markdown",
   "metadata": {},
   "source": [
    "## Where it all begins"
   ]
  },
  {
   "cell_type": "code",
   "execution_count": null,
   "metadata": {},
   "outputs": [
    {
     "name": "stdout",
     "output_type": "stream",
     "text": [
      "Extracting songs: [####################] 2000/2000 songs completed. Approx time left: 0.04 minutes.\n",
      "EXTRACTION COMPLETE. Songs extracted: 2000; Elapsed Time: 1.48 minutes.\n",
      "Conducting audio analysis: [--------------------] 4/2000 songs completed. Approx time left: 297.38 minutes.\r"
     ]
    }
   ],
   "source": [
    "for year in range(2000, 2019):\n",
    "    get_data(year, 2000)"
   ]
  }
 ],
 "metadata": {
  "kernelspec": {
   "display_name": "Python 3",
   "language": "python",
   "name": "python3"
  },
  "language_info": {
   "codemirror_mode": {
    "name": "ipython",
    "version": 3
   },
   "file_extension": ".py",
   "mimetype": "text/x-python",
   "name": "python",
   "nbconvert_exporter": "python",
   "pygments_lexer": "ipython3",
   "version": "3.7.3"
  }
 },
 "nbformat": 4,
 "nbformat_minor": 2
}
